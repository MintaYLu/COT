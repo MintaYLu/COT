{
 "cells": [
  {
   "cell_type": "code",
   "execution_count": 1,
   "metadata": {},
   "outputs": [],
   "source": [
    "## Please remember to update \"COT.py\" to the newest version\n",
    "\n",
    "import sys\n",
    "sys.path.append(\"C:/Users/cbil/Google Drive/SMG/Python/COT.py\") # change to your own path\n",
    "\n",
    "import pandas as pd\n",
    "import GEOparse\n",
    "import COT"
   ]
  },
  {
   "cell_type": "code",
   "execution_count": 2,
   "metadata": {},
   "outputs": [
    {
     "name": "stderr",
     "output_type": "stream",
     "text": [
      "C:\\ProgramData\\Anaconda3\\lib\\site-packages\\GEOparse\\GEOparse.py:110: DtypeWarning: Columns (2) have mixed types.Specify dtype option on import or set low_memory=False.\n",
      "  return parse_GSE(filepath, open_kwargs=open_kwargs)\n"
     ]
    }
   ],
   "source": [
    "## Download GSE28490\n",
    "\n",
    "gse = GEOparse.get_GEO(geo=\"GSE28490\", destdir='./', silent=True)"
   ]
  },
  {
   "cell_type": "code",
   "execution_count": 3,
   "metadata": {},
   "outputs": [],
   "source": [
    "## Select needed cell types\n",
    "\n",
    "cellTypes = {\"Neutrophils\": [], \"NK\": [], \"CD19+ B\": [], \"CD8+ T\": [], \"CD14+ monocytes\": []}\n",
    "\n",
    "sampleType = [] # cell type labels\n",
    "for cell in cellTypes:\n",
    "    for gsm in gse.phenotype_data.index.values:\n",
    "        if cell in gse.phenotype_data[\"source_name_ch1\"][gsm]:\n",
    "            cellTypes[cell].append(gsm)\n",
    "            sampleType.append(cell)\n",
    "            \n",
    "samples = [] # sample lables\n",
    "for cell in cellTypes:\n",
    "    samples = samples + cellTypes[cell]   \n",
    "    \n",
    "data = gse.pivot_samples('VALUE')[samples] # selected raw data"
   ]
  },
  {
   "cell_type": "code",
   "execution_count": 4,
   "metadata": {},
   "outputs": [
    {
     "name": "stdout",
     "output_type": "stream",
     "text": [
      "COT: package initiated.\n",
      "COT: subtype means generated.\n",
      "COT: cos values generated.\n"
     ]
    }
   ],
   "source": [
    "## Run COT\n",
    "\n",
    "cot = COT.COT(df_raw=data, logarithmic_data=True)\n",
    "cot.generate_subtype_means(sampleType)\n",
    "cot.generate_cos_values()\n",
    "\n",
    "cos_sorted = cot.df_cos.sort_values(by='cos', ascending=False)"
   ]
  },
  {
   "cell_type": "code",
   "execution_count": null,
   "metadata": {},
   "outputs": [],
   "source": []
  }
 ],
 "metadata": {
  "kernelspec": {
   "display_name": "Python 3",
   "language": "python",
   "name": "python3"
  },
  "varInspector": {
   "cols": {
    "lenName": 16,
    "lenType": 16,
    "lenVar": 40
   },
   "kernels_config": {
    "python": {
     "delete_cmd_postfix": "",
     "delete_cmd_prefix": "del ",
     "library": "var_list.py",
     "varRefreshCmd": "print(var_dic_list())"
    },
    "r": {
     "delete_cmd_postfix": ") ",
     "delete_cmd_prefix": "rm(",
     "library": "var_list.r",
     "varRefreshCmd": "cat(var_dic_list()) "
    }
   },
   "types_to_exclude": [
    "module",
    "function",
    "builtin_function_or_method",
    "instance",
    "_Feature"
   ],
   "window_display": false
  }
 },
 "nbformat": 4,
 "nbformat_minor": 2
}
